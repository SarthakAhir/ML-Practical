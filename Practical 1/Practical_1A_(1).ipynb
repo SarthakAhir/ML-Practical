{
  "cells": [
    {
      "cell_type": "code",
      "execution_count": null,
      "id": "ef02a5c2-a423-4c70-ae44-02bb4a18edf9",
      "metadata": {
        "id": "ef02a5c2-a423-4c70-ae44-02bb4a18edf9"
      },
      "outputs": [],
      "source": [
        "import numpy"
      ]
    },
    {
      "cell_type": "code",
      "execution_count": null,
      "id": "d93bdc4a-d741-4bd1-bcdc-94ee9045fe4d",
      "metadata": {
        "id": "d93bdc4a-d741-4bd1-bcdc-94ee9045fe4d"
      },
      "outputs": [],
      "source": [
        "import pandas"
      ]
    },
    {
      "cell_type": "code",
      "execution_count": null,
      "id": "4362554f-1c39-4056-8eb4-b8530d007bfd",
      "metadata": {
        "id": "4362554f-1c39-4056-8eb4-b8530d007bfd"
      },
      "outputs": [],
      "source": [
        "import pandas as pd"
      ]
    },
    {
      "cell_type": "code",
      "execution_count": null,
      "id": "9730aade-d2a9-4eaa-839a-c850cbc96a64",
      "metadata": {
        "id": "9730aade-d2a9-4eaa-839a-c850cbc96a64",
        "outputId": "c8bd645b-b316-4310-8509-b211b2d9d19e"
      },
      "outputs": [
        {
          "name": "stdout",
          "output_type": "stream",
          "text": [
            "Sarthak\n"
          ]
        }
      ],
      "source": [
        "print(\"Sarthak\")"
      ]
    },
    {
      "cell_type": "code",
      "execution_count": null,
      "id": "ed5204eb-02e0-4487-978d-9066deb3f68c",
      "metadata": {
        "id": "ed5204eb-02e0-4487-978d-9066deb3f68c"
      },
      "outputs": [],
      "source": [
        "import math"
      ]
    },
    {
      "cell_type": "code",
      "execution_count": null,
      "id": "e8c9e653-a034-4fda-8db5-0e43e7262c28",
      "metadata": {
        "id": "e8c9e653-a034-4fda-8db5-0e43e7262c28",
        "outputId": "0ee22925-2c80-41b0-c5fb-62e6f1b16c93"
      },
      "outputs": [
        {
          "name": "stdout",
          "output_type": "stream",
          "text": [
            "11\n"
          ]
        }
      ],
      "source": [
        "print(math.floor(11.5))"
      ]
    },
    {
      "cell_type": "code",
      "execution_count": null,
      "id": "2205f658-be63-4230-9f02-1499c2b5028c",
      "metadata": {
        "id": "2205f658-be63-4230-9f02-1499c2b5028c",
        "outputId": "05a04b69-51df-49a4-d5b9-9e5a77faf7c3"
      },
      "outputs": [
        {
          "name": "stdout",
          "output_type": "stream",
          "text": [
            "3\n",
            "-5\n",
            "10\n",
            "26\n"
          ]
        }
      ],
      "source": [
        "print(math.ceil(2.4))\n",
        "print(math.ceil(-5.3))\n",
        "print(math.ceil(10.0))\n",
        "print(math.ceil(25.6))"
      ]
    },
    {
      "cell_type": "code",
      "execution_count": null,
      "id": "462b3d0e-e992-4826-b90f-bd2a89851447",
      "metadata": {
        "jupyter": {
          "source_hidden": true
        },
        "id": "462b3d0e-e992-4826-b90f-bd2a89851447",
        "outputId": "f5424415-942d-4f33-dc5f-865ef8fdc4f1"
      },
      "outputs": [
        {
          "name": "stdout",
          "output_type": "stream",
          "text": [
            "3.1622776601683795\n",
            "10.0\n",
            "8.246211251235321\n",
            "16.0\n"
          ]
        }
      ],
      "source": [
        "print(math.sqrt(10))\n",
        "print(math.sqrt(100))\n",
        "print(math.sqrt(68))\n",
        "print(math.sqrt(256))"
      ]
    },
    {
      "cell_type": "code",
      "execution_count": null,
      "id": "caa934aa-a618-40d6-b546-a8c06e051551",
      "metadata": {
        "id": "caa934aa-a618-40d6-b546-a8c06e051551",
        "outputId": "1fbf0153-a327-4981-d3a5-951a6beee14e"
      },
      "outputs": [
        {
          "name": "stdout",
          "output_type": "stream",
          "text": [
            "1\n"
          ]
        }
      ],
      "source": [
        "print(math.gcd(25,56))"
      ]
    },
    {
      "cell_type": "code",
      "execution_count": null,
      "id": "ca36c6d3-272b-4a7f-a362-28e8491d1e1b",
      "metadata": {
        "id": "ca36c6d3-272b-4a7f-a362-28e8491d1e1b",
        "outputId": "f70046cd-4f85-4e8f-ae13-d058a8116e60"
      },
      "outputs": [
        {
          "name": "stdout",
          "output_type": "stream",
          "text": [
            "10\n"
          ]
        }
      ],
      "source": [
        "print(math.gcd(10,20))"
      ]
    },
    {
      "cell_type": "code",
      "execution_count": null,
      "id": "1601cfd2-9263-43ef-94f3-0eca625c29eb",
      "metadata": {
        "id": "1601cfd2-9263-43ef-94f3-0eca625c29eb",
        "outputId": "f1834d43-2d6c-499e-a8af-3787708588b5"
      },
      "outputs": [
        {
          "name": "stdout",
          "output_type": "stream",
          "text": [
            "720\n"
          ]
        }
      ],
      "source": [
        "print(math.factorial(6))"
      ]
    },
    {
      "cell_type": "code",
      "execution_count": null,
      "id": "65f561f8-30c1-474e-a3fa-a08858fae828",
      "metadata": {
        "id": "65f561f8-30c1-474e-a3fa-a08858fae828",
        "outputId": "5c469e8b-102b-4e5d-81fc-b2466fe5785d"
      },
      "outputs": [
        {
          "name": "stdout",
          "output_type": "stream",
          "text": [
            "10\n",
            "16.0\n",
            "8.246211251235321\n"
          ]
        }
      ],
      "source": [
        "print(math.isqrt(100))\n",
        "print(math.sqrt(256))\n",
        "print(math.sqrt(68))"
      ]
    }
  ],
  "metadata": {
    "kernelspec": {
      "display_name": "Python [conda env:base] *",
      "language": "python",
      "name": "conda-base-py"
    },
    "language_info": {
      "codemirror_mode": {
        "name": "ipython",
        "version": 3
      },
      "file_extension": ".py",
      "mimetype": "text/x-python",
      "name": "python",
      "nbconvert_exporter": "python",
      "pygments_lexer": "ipython3",
      "version": "3.12.7"
    },
    "colab": {
      "provenance": []
    }
  },
  "nbformat": 4,
  "nbformat_minor": 5
}